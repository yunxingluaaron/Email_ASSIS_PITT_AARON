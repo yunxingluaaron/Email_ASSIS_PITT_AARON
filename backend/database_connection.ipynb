{
 "cells": [
  {
   "cell_type": "code",
   "execution_count": 1,
   "metadata": {},
   "outputs": [
    {
     "name": "stdout",
     "output_type": "stream",
     "text": [
      "Connection successful!\n",
      "Available tables: []\n"
     ]
    }
   ],
   "source": [
    "# test_db.py\n",
    "import os\n",
    "import psycopg2\n",
    "from dotenv import load_dotenv\n",
    "\n",
    "# Load environment variables\n",
    "load_dotenv()\n",
    "\n",
    "def test_connection():\n",
    "    try:\n",
    "        conn = psycopg2.connect(\n",
    "            host=os.getenv(\"DB_HOST\"),\n",
    "            database=os.getenv(\"DB_NAME\"),\n",
    "            user=os.getenv(\"DB_USER\"),\n",
    "            password=os.getenv(\"DB_PASSWORD\")\n",
    "        )\n",
    "        print(\"Connection successful!\")\n",
    "        \n",
    "        # Test if tables exist\n",
    "        cur = conn.cursor()\n",
    "        cur.execute(\"SELECT table_name FROM information_schema.tables WHERE table_schema = 'public'\")\n",
    "        tables = cur.fetchall()\n",
    "        print(\"Available tables:\", tables)\n",
    "        \n",
    "        cur.close()\n",
    "        conn.close()\n",
    "    except Exception as e:\n",
    "        print(f\"Connection error: {e}\")\n",
    "\n",
    "if __name__ == \"__main__\":\n",
    "    test_connection()"
   ]
  }
 ],
 "metadata": {
  "kernelspec": {
   "display_name": "Python 3",
   "language": "python",
   "name": "python3"
  },
  "language_info": {
   "codemirror_mode": {
    "name": "ipython",
    "version": 3
   },
   "file_extension": ".py",
   "mimetype": "text/x-python",
   "name": "python",
   "nbconvert_exporter": "python",
   "pygments_lexer": "ipython3",
   "version": "3.11.3"
  }
 },
 "nbformat": 4,
 "nbformat_minor": 2
}
